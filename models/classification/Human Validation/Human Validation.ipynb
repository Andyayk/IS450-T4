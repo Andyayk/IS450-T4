{
 "cells": [
  {
   "cell_type": "markdown",
   "metadata": {},
   "source": [
    "Note: To run this file, \"X_test_best_choice_6\" and \"categories.json\" has to be in the same folder"
   ]
  },
  {
   "cell_type": "code",
   "execution_count": 1,
   "metadata": {},
   "outputs": [
    {
     "name": "stdout",
     "output_type": "stream",
     "text": [
      "['aa' 'aaa' 'aap' ... 'zyh' 'zyrex' 'Category']\n",
      "(12000, 4983)\n"
     ]
    },
    {
     "data": {
      "text/plain": [
       "\"\\nY_test = pd.read_pickle('Y_test')\\nY_test.columns = [x[0] for x in Y_test.columns]\\nprint(Y_test.columns.values)\\nprint(Y_test.shape)\\nprint(Y_test['Category'])\\n\\ndf_test = pd.merge(left=X_test, left_index=True, right=Y_test, right_index=True, how='right')\\nprint(df_test.columns.values)\\nprint(df_test.shape)\\n\""
      ]
     },
     "execution_count": 1,
     "metadata": {},
     "output_type": "execute_result"
    }
   ],
   "source": [
    "import pickle\n",
    "import numpy as np\n",
    "import pandas as pd\n",
    "\n",
    "X_test = pd.read_pickle('X_test_best_choice_6')\n",
    "X_test.columns = [x[0] for x in X_test.columns]\n",
    "print(X_test.columns.values)\n",
    "print(X_test.shape)\n",
    "\n",
    "# Only if X_test does not contain Category column\n",
    "\"\"\"\n",
    "Y_test = pd.read_pickle('Y_test')\n",
    "Y_test.columns = [x[0] for x in Y_test.columns]\n",
    "print(Y_test.columns.values)\n",
    "print(Y_test.shape)\n",
    "print(Y_test['Category'])\n",
    "\n",
    "df_test = pd.merge(left=X_test, left_index=True, right=Y_test, right_index=True, how='right')\n",
    "print(df_test.columns.values)\n",
    "print(df_test.shape)\n",
    "\"\"\""
   ]
  },
  {
   "cell_type": "markdown",
   "metadata": {},
   "source": [
    "### Extract Data Rows for Human Subgroup Validation"
   ]
  },
  {
   "cell_type": "code",
   "execution_count": 2,
   "metadata": {},
   "outputs": [
    {
     "name": "stdout",
     "output_type": "stream",
     "text": [
      "['aa' 'aaa' 'aap' ... 'zyrex' 'Category' 'Group']\n"
     ]
    }
   ],
   "source": [
    "import json\n",
    "\n",
    "# Match categories to groups (mobile/fashion/beauty)\n",
    "groups_map = {}\n",
    "with open('categories.json') as json_file:  \n",
    "    categories_lookup = json.load(json_file)\n",
    "    for group in categories_lookup:\n",
    "        for cat in categories_lookup[group]:\n",
    "            groups_map[categories_lookup[group][cat]] = group\n",
    "# print(groups_map)\n",
    "\n",
    "categories = X_test[\"Category\"].tolist()\n",
    "# print(categories)\n",
    "\n",
    "groups = []\n",
    "for cat in categories:\n",
    "    groups.append(groups_map[cat])\n",
    "# print(groups)\n",
    "\n",
    "X_test = X_test.assign(Group=groups)\n",
    "print(X_test.columns.values)"
   ]
  },
  {
   "cell_type": "code",
   "execution_count": 3,
   "metadata": {},
   "outputs": [
    {
     "name": "stdout",
     "output_type": "stream",
     "text": [
      "['aa' 'aaa' 'aap' ... 'zyrex' 'Category' 'Group']\n",
      "(3997, 4984)\n",
      "['aa' 'aaa' 'aap' ... 'zyrex' 'Category' 'Group']\n",
      "(4036, 4984)\n",
      "['aa' 'aaa' 'aap' ... 'zyrex' 'Category' 'Group']\n",
      "(3967, 4984)\n"
     ]
    }
   ],
   "source": [
    "# Split dataframe by groups\n",
    "mobile_df = X_test.loc[X_test['Group'] == 'Mobile']\n",
    "print(mobile_df.columns.values)\n",
    "print(mobile_df.shape)\n",
    "\n",
    "fashion_df = X_test.loc[X_test['Group'] == 'Fashion']\n",
    "print(fashion_df.columns.values)\n",
    "print(fashion_df.shape)\n",
    "\n",
    "beauty_df = X_test.loc[X_test['Group'] == 'Beauty']\n",
    "print(beauty_df.columns.values)\n",
    "print(beauty_df.shape)"
   ]
  },
  {
   "cell_type": "code",
   "execution_count": 4,
   "metadata": {},
   "outputs": [
    {
     "name": "stdout",
     "output_type": "stream",
     "text": [
      "['aa' 'aaa' 'aap' ... 'zyrex' 'Category' 'Group']\n",
      "(33, 4984)\n",
      "['aa' 'aaa' 'aap' ... 'zyrex' 'Category' 'Group']\n",
      "(33, 4984)\n",
      "['aa' 'aaa' 'aap' ... 'zyrex' 'Category' 'Group']\n",
      "(33, 4984)\n"
     ]
    }
   ],
   "source": [
    "# Sample 33 per group\n",
    "mobile_selected = mobile_df.sample(n = 33)\n",
    "# mobile_selected = mobile_df.sample(frac = 0.0082)\n",
    "print(mobile_selected.columns.values)\n",
    "print(mobile_selected.shape)\n",
    "\n",
    "fashion_selected = fashion_df.sample(n = 33)\n",
    "# fashion_selected = fashion_df.sample(frac = 0.0082)\n",
    "print(fashion_selected.columns.values)\n",
    "print(fashion_selected.shape)\n",
    "\n",
    "beauty_selected = beauty_df.sample(n = 33)\n",
    "# beauty_selected = beauty_df.sample(frac = 0.0082)\n",
    "print(beauty_selected.columns.values)\n",
    "print(beauty_selected.shape)"
   ]
  },
  {
   "cell_type": "code",
   "execution_count": 5,
   "metadata": {},
   "outputs": [
    {
     "name": "stdout",
     "output_type": "stream",
     "text": [
      "['aa' 'aaa' 'aap' ... 'zyrex' 'Category' 'Group']\n",
      "(99, 4984)\n"
     ]
    }
   ],
   "source": [
    "# Combine final validation dataset and write to csv\n",
    "sampled_df = pd.concat([mobile_selected, fashion_selected, beauty_selected], axis=0, join='outer', ignore_index=False)\n",
    "# sampled_df = sampled_df.drop(['Category', 'Group'], 1)\n",
    "sampled_df = sampled_df.sample(frac = 1) # shuffle\n",
    "print(sampled_df.columns.values)\n",
    "print(sampled_df.shape)\n",
    "\n",
    "sampled_df.to_csv('human_validation.csv') # For human validation testing"
   ]
  },
  {
   "cell_type": "code",
   "execution_count": null,
   "metadata": {},
   "outputs": [],
   "source": [
    "# Do v-lookup matching of itemid index for titles for human test form"
   ]
  }
 ],
 "metadata": {
  "kernelspec": {
   "display_name": "Python 3",
   "language": "python",
   "name": "python3"
  },
  "language_info": {
   "codemirror_mode": {
    "name": "ipython",
    "version": 3
   },
   "file_extension": ".py",
   "mimetype": "text/x-python",
   "name": "python",
   "nbconvert_exporter": "python",
   "pygments_lexer": "ipython3",
   "version": "3.7.1"
  }
 },
 "nbformat": 4,
 "nbformat_minor": 2
}
