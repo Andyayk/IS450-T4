{
 "cells": [
  {
   "cell_type": "markdown",
   "metadata": {},
   "source": [
    "<h1>Creating Equal Sized Datasets</h1>"
   ]
  },
  {
   "cell_type": "code",
   "execution_count": 6,
   "metadata": {},
   "outputs": [
    {
     "name": "stdout",
     "output_type": "stream",
     "text": [
      "49051\n"
     ]
    }
   ],
   "source": [
    "#General libraries needed\n",
    "import numpy as np\n",
    "import pandas as pd\n",
    "\n",
    "datasize = 1000\n",
    "\n",
    "df = pd.DataFrame(columns=['itemid', 'title', 'Category', 'image_path']) #creating dataframe\n",
    "\n",
    "all_df = pd.read_csv(\"train.csv\")\n",
    "\n",
    "# sort the dataframe\n",
    "all_df.sort_values(by='Category', inplace=True)\n",
    "\n",
    "# get a list of category\n",
    "categorylist=all_df['Category'].unique().tolist()\n",
    "\n",
    "for category in categorylist:\n",
    "    eachdf = all_df.loc[all_df.Category==category]\n",
    "    \n",
    "    count_row = eachdf.shape[0]  # gives number of row count\n",
    "    \n",
    "    if count_row > datasize:\n",
    "        eachdf = eachdf.sample(datasize)\n",
    "\n",
    "    df = df.append(eachdf, ignore_index=True)\n",
    "\n",
    "count_row = df.shape[0]  # gives number of row count\n",
    "print(count_row)\n",
    "df.to_csv('train2.csv', index=False, encoding='utf-8')"
   ]
  }
 ],
 "metadata": {
  "kernelspec": {
   "display_name": "Python 3",
   "language": "python",
   "name": "python3"
  },
  "language_info": {
   "codemirror_mode": {
    "name": "ipython",
    "version": 3
   },
   "file_extension": ".py",
   "mimetype": "text/x-python",
   "name": "python",
   "nbconvert_exporter": "python",
   "pygments_lexer": "ipython3",
   "version": "3.7.1"
  }
 },
 "nbformat": 4,
 "nbformat_minor": 2
}
