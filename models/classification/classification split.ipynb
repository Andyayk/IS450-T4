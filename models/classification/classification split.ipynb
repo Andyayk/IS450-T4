{
 "cells": [
  {
   "cell_type": "markdown",
   "metadata": {},
   "source": [
    "<h1>Creating Equal Sized Datasets</h1>"
   ]
  },
  {
   "cell_type": "code",
   "execution_count": 9,
   "metadata": {},
   "outputs": [
    {
     "name": "stdout",
     "output_type": "stream",
     "text": [
      "Original Count: 160330\n",
      "New Sample Count: 50000\n",
      "Original Count: 219702\n",
      "New Sample Count: 50000\n",
      "Original Count: 286583\n",
      "New Sample Count: 50000\n",
      "Success!\n"
     ]
    }
   ],
   "source": [
    "#General libraries needed\n",
    "import numpy as np\n",
    "import pandas as pd\n",
    "\n",
    "datasize = 50000\n",
    "\n",
    "df = pd.DataFrame(columns=['itemid', 'title', 'Category', 'image_path']) #creating dataframe\n",
    "\n",
    "all_df = pd.read_csv(\"train.csv\")\n",
    "\n",
    "# sort the dataframe\n",
    "all_df.sort_values(by='Category', inplace=True)\n",
    "\n",
    "# get a list of category\n",
    "mobilelist=list(range(31, 58))\n",
    "fashionlist=list(range(17,31))\n",
    "beautylist=list(range(0, 17))\n",
    "\n",
    "def retrievesample(all_df, list, df):\n",
    "    eachdf = all_df.loc[all_df.Category.isin(list)]\n",
    "\n",
    "    count_row = eachdf.shape[0]  # gives number of row count\n",
    "    print(\"Original Count:\", count_row)\n",
    "    \n",
    "    eachdf = eachdf.sample(datasize) #retrieve a sample\n",
    "\n",
    "    count_row = eachdf.shape[0]  # gives number of row count\n",
    "    print(\"New Sample Count:\", count_row)\n",
    "    \n",
    "    df = df.append(eachdf, ignore_index=True) #append to original dataframe\n",
    "    \n",
    "    return df\n",
    "    \n",
    "df = retrievesample(all_df, mobilelist, df)\n",
    "df = retrievesample(all_df, fashionlist, df)\n",
    "df = retrievesample(all_df, beautylist, df)\n",
    "\n",
    "df.to_csv('train2.csv', index=False, encoding='utf-8')\n",
    "\n",
    "print(\"Success!\")"
   ]
  }
 ],
 "metadata": {
  "kernelspec": {
   "display_name": "Python 3",
   "language": "python",
   "name": "python3"
  },
  "language_info": {
   "codemirror_mode": {
    "name": "ipython",
    "version": 3
   },
   "file_extension": ".py",
   "mimetype": "text/x-python",
   "name": "python",
   "nbconvert_exporter": "python",
   "pygments_lexer": "ipython3",
   "version": "3.7.1"
  }
 },
 "nbformat": 4,
 "nbformat_minor": 2
}
